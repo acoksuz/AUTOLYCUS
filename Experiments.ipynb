{
 "cells": [
  {
   "cell_type": "markdown",
   "id": "9cc29317",
   "metadata": {},
   "source": [
    "### Welcome to this experiments notebook! \n",
    "##### In this notebook, you can recreate the experiments we conducted on AUTOLYCUS: Exploiting Explainable Artificial Intelligence (XAI) for Model Extraction Attacks against Interpretable Models paper. \n",
    "##### You can access to the pdf of the paper at: https://petsymposium.org/popets/2024/popets-2024-0137.pdf\n",
    "##### You can access to the latest version of the code at: https://github.com/acoksuz/AUTOLYCUS\n",
    "##### For questions about the code, please contact me at abdullahcaglar.oksuz@case.edu"
   ]
  },
  {
   "cell_type": "markdown",
   "id": "c4cd164c",
   "metadata": {},
   "source": [
    "### Step 1: Import the libraries"
   ]
  },
  {
   "cell_type": "code",
   "execution_count": null,
   "id": "48862aea",
   "metadata": {},
   "outputs": [],
   "source": [
    "from utils import *\n",
    "from matplotlib import pyplot as plt"
   ]
  },
  {
   "cell_type": "markdown",
   "id": "4241d643",
   "metadata": {},
   "source": [
    "### Step 2: Configure the explainer, the dataset and the ml model in here"
   ]
  },
  {
   "cell_type": "code",
   "execution_count": null,
   "id": "9f861b8f",
   "metadata": {},
   "outputs": [],
   "source": [
    "which_dataset = 4    # 'iris'=0 'crop'=1 'adult'=2 'breast'=3 'nursery'=4 'mushroom'=5\n",
    "\n",
    "which_model = 1      # 'Decision_Tree' = 0, 'Logistic_Regression = 1', 'Multinomial_Naive_Bayes=2',\n",
    "                     # 'K_Nearest_Neeighbor = 3', 'Random_Forest = 4', 'Multilayer_Perceptron = 5'\n",
    "\n",
    "explanation_tool = 0 # 'Lime=0' 'Shap=1'"
   ]
  },
  {
   "cell_type": "markdown",
   "id": "23b62f65",
   "metadata": {},
   "source": [
    "### Step 3: Configure attack parameters n, k and query_limit in here"
   ]
  },
  {
   "cell_type": "code",
   "execution_count": null,
   "id": "218ec211",
   "metadata": {},
   "outputs": [],
   "source": [
    "# This is the number of auxiliary datasets to experiment on. \n",
    "# Lower the number for a lower runtime.\n",
    "how_many_sets = 10\n",
    "\n",
    "# Size of auxiliary dataset (per class) in a list format (n in the paper) \n",
    "sample_set_sizes = [5]\n",
    "\n",
    "# Number of features explored in a list format (k in the paper)\n",
    "nfe = [3] \n",
    "\n",
    "query_limit = [0,100,250,500,1000]\n",
    "\n",
    "attack_mode = 0  # 0: auto, 1: pre-existing fast, 2: pre-existing slow "
   ]
  },
  {
   "cell_type": "markdown",
   "id": "9e514887",
   "metadata": {},
   "source": [
    "### Step 4: Main Attack Script, run either a pre-existing attack or use the configured parameters for dataset, model, explainer and attack parameters selection\n",
    "#### Note that this may take a long runtime due to slow runtime of explainers!"
   ]
  },
  {
   "cell_type": "code",
   "execution_count": null,
   "id": "e9ceecad",
   "metadata": {},
   "outputs": [],
   "source": [
    "# Set the last parameter True for saving the results\n",
    "if attack_mode == 0:\n",
    "    accuracies, rtest_sims, samples_mega, other_args = run_attack_auto(which_dataset, which_model, explanation_tool, \n",
    "                                                                       how_many_sets, sample_set_sizes, nfe, query_limit, False)\n",
    "elif attack_mode == 1:\n",
    "    accuracies, rtest_sims, samples_mega, other_args = run_attack_prepared(True)\n",
    "elif attack_mode == 2:\n",
    "    accuracies, rtest_sims, samples_mega, other_args = run_attack_prepared(False)\n",
    "else:\n",
    "    print('Incorrect attack type! Select 0, 1 or 2 as your attack mode.')"
   ]
  },
  {
   "cell_type": "markdown",
   "id": "0b374375",
   "metadata": {},
   "source": [
    "### Step 5: Check out the other created parameters from here (debugging purposes)"
   ]
  },
  {
   "cell_type": "code",
   "execution_count": null,
   "id": "0d0440d2",
   "metadata": {},
   "outputs": [],
   "source": [
    "args0, args1, args2, args3, args4 = other_args\n",
    "which_dataset, which_model, explanation_tool = args0\n",
    "X_train, X_test, y_train, y_test, X_test_t, X_test_s, y_test_t, y_test_s = args1\n",
    "classes, features, n_classes, n_features, isCategorical, epsilon_set, canNegative, classPossibilities, dataset_name = args2\n",
    "t_model, model_name, t_accuracy, t_explainer = args3\n",
    "how_many_sets, sample_set_sizes, nfe, query_limit = args4"
   ]
  },
  {
   "cell_type": "markdown",
   "id": "a19ead9b",
   "metadata": {},
   "source": [
    "### Enjoy!"
   ]
  }
 ],
 "metadata": {
  "kernelspec": {
   "display_name": "Python 3 (ipykernel)",
   "language": "python",
   "name": "python3"
  },
  "language_info": {
   "codemirror_mode": {
    "name": "ipython",
    "version": 3
   },
   "file_extension": ".py",
   "mimetype": "text/x-python",
   "name": "python",
   "nbconvert_exporter": "python",
   "pygments_lexer": "ipython3",
   "version": "3.9.12"
  }
 },
 "nbformat": 4,
 "nbformat_minor": 5
}
